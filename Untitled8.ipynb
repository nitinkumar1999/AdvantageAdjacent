{
 "cells": [
  {
   "cell_type": "code",
   "execution_count": 1,
   "metadata": {},
   "outputs": [
    {
     "name": "stdout",
     "output_type": "stream",
     "text": [
      "15.0\n",
      "25.0\n",
      "35.0\n",
      "45.0\n",
      "55.0\n",
      "65.0\n"
     ]
    }
   ],
   "source": [
    "class AvgAdj:\n",
    "    def __init__(self,data):\n",
    "        self._data=data\n",
    "        self._len=len(data)\n",
    "        self._first=0\n",
    "        self._sec=1\n",
    "    def __iter__(self):\n",
    "        return self\n",
    "    def __next__(self):\n",
    "        if self._sec == self._len:\n",
    "            raise StopIteration\n",
    "        self._avg=(self._data[self._first]+self._data[self._sec])/2\n",
    "        self._first +=1\n",
    "        self._sec +=1\n",
    "        return self._avg\n",
    "lst=[10,20,30,40,50,60,70]\n",
    "coll=AvgAdj(lst)\n",
    "\n",
    "for val in coll:\n",
    "    print(val)"
   ]
  },
  {
   "cell_type": "code",
   "execution_count": null,
   "metadata": {},
   "outputs": [],
   "source": []
  }
 ],
 "metadata": {
  "kernelspec": {
   "display_name": "Python 3",
   "language": "python",
   "name": "python3"
  },
  "language_info": {
   "codemirror_mode": {
    "name": "ipython",
    "version": 3
   },
   "file_extension": ".py",
   "mimetype": "text/x-python",
   "name": "python",
   "nbconvert_exporter": "python",
   "pygments_lexer": "ipython3",
   "version": "3.7.6"
  }
 },
 "nbformat": 4,
 "nbformat_minor": 2
}
